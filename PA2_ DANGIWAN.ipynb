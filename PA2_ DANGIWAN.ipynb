{
 "cells": [
  {
   "cell_type": "markdown",
   "id": "001583f5-1da3-48f7-943a-89d210c67ba0",
   "metadata": {},
   "source": [
    "# NORMALIZATION PROBLEM"
   ]
  },
  {
   "cell_type": "code",
   "execution_count": 2,
   "id": "e9ae1fd2-8881-4aa6-ab97-95d846ccc9d3",
   "metadata": {},
   "outputs": [
    {
     "name": "stdout",
     "output_type": "stream",
     "text": [
      "[[-1.36338287  0.28578382  1.12659304  0.463112    0.55458296]\n",
      " [-1.60588896 -0.65459582 -0.98951269  0.90394311  0.69962455]\n",
      " [-1.59957882  1.42090786  1.46621712 -1.37934267  0.67422006]\n",
      " [ 0.69718449 -1.29627457  0.66870227  0.48141319  0.66711134]\n",
      " [-0.11375537  0.26279272 -0.74966313  0.86547084 -1.48566449]]\n"
     ]
    }
   ],
   "source": [
    "import numpy as nd\n",
    "#accessing functions from the numpy library and calling it as nd\n",
    "\n",
    "X = nd.random.random((5,5))\n",
    "#creating a 5x5 array with random values using the random function \n",
    "z = nd.mean(X)\n",
    "#calculating the mean of the values using the pre-defined mean function\n",
    "v = nd.std(X)\n",
    "#calculating the mean of the values inside the array using the pre-defined \n",
    "#standard function\n",
    "\n",
    "normalized = (X-z)/v\n",
    "#calculating the normalized data by deducting the mean from the X array and \n",
    "#dividing by the standard deviation\n",
    "\n",
    "nd.save('X_normalized', normalized)\n",
    "\n",
    "loaded_normalized = nd.load('X_normalized.npy')\n",
    "print(loaded_normalized)"
   ]
  },
  {
   "cell_type": "markdown",
   "id": "c5ab8703-db45-458c-8ae3-56f7b0cbfaf9",
   "metadata": {},
   "source": [
    "# DIVISIBLE BY 3 PROBLEM"
   ]
  },
  {
   "cell_type": "code",
   "execution_count": 9,
   "id": "6c6ed675-c3f1-4151-87e0-2d15a02e3467",
   "metadata": {},
   "outputs": [
    {
     "name": "stdout",
     "output_type": "stream",
     "text": [
      "[[    1     4     9    16    25    36    49    64    81   100]\n",
      " [  121   144   169   196   225   256   289   324   361   400]\n",
      " [  441   484   529   576   625   676   729   784   841   900]\n",
      " [  961  1024  1089  1156  1225  1296  1369  1444  1521  1600]\n",
      " [ 1681  1764  1849  1936  2025  2116  2209  2304  2401  2500]\n",
      " [ 2601  2704  2809  2916  3025  3136  3249  3364  3481  3600]\n",
      " [ 3721  3844  3969  4096  4225  4356  4489  4624  4761  4900]\n",
      " [ 5041  5184  5329  5476  5625  5776  5929  6084  6241  6400]\n",
      " [ 6561  6724  6889  7056  7225  7396  7569  7744  7921  8100]\n",
      " [ 8281  8464  8649  8836  9025  9216  9409  9604  9801 10000]]\n",
      "The numbers divisible by 3 are:\n",
      "9\n",
      "36\n",
      "81\n",
      "144\n",
      "225\n",
      "324\n",
      "441\n",
      "576\n",
      "729\n",
      "900\n",
      "1089\n",
      "1296\n",
      "1521\n",
      "1764\n",
      "2025\n",
      "2304\n",
      "2601\n",
      "2916\n",
      "3249\n",
      "3600\n",
      "3969\n",
      "4356\n",
      "4761\n",
      "5184\n",
      "5625\n",
      "6084\n",
      "6561\n",
      "7056\n",
      "7569\n",
      "8100\n",
      "8649\n",
      "9216\n",
      "9801\n",
      "10000\n"
     ]
    }
   ],
   "source": [
    "import numpy as nd\n",
    "\n",
    "w = nd.arange(1,101,1)\n",
    "p = nd.arange(1,101,1)\n",
    "n = w*p\n",
    "j = n.reshape(10,10)\n",
    "print(j)\n",
    "\n",
    "print('The numbers divisible by 3 are:')\n",
    "for k in n:\n",
    "    if k%3 == 0:\n",
    "        print(k)\n",
    "\n",
    "nd.save('div_by_3', k)\n",
    "\n",
    "loaded_k = nd.load('div_by_3.npy')\n",
    "print(loaded_k)"
   ]
  },
  {
   "cell_type": "code",
   "execution_count": null,
   "id": "85e39437-04be-4730-99a7-eafafcb8e35f",
   "metadata": {},
   "outputs": [],
   "source": []
  }
 ],
 "metadata": {
  "kernelspec": {
   "display_name": "Python [conda env:base] *",
   "language": "python",
   "name": "conda-base-py"
  },
  "language_info": {
   "codemirror_mode": {
    "name": "ipython",
    "version": 3
   },
   "file_extension": ".py",
   "mimetype": "text/x-python",
   "name": "python",
   "nbconvert_exporter": "python",
   "pygments_lexer": "ipython3",
   "version": "3.13.5"
  }
 },
 "nbformat": 4,
 "nbformat_minor": 5
}
