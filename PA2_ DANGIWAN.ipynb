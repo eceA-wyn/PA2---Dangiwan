{
 "cells": [
  {
   "cell_type": "markdown",
   "id": "001583f5-1da3-48f7-943a-89d210c67ba0",
   "metadata": {},
   "source": [
    "# NORMALIZATION PROBLEM"
   ]
  },
  {
   "cell_type": "code",
   "execution_count": 11,
   "id": "e9ae1fd2-8881-4aa6-ab97-95d846ccc9d3",
   "metadata": {},
   "outputs": [
    {
     "name": "stdout",
     "output_type": "stream",
     "text": [
      "[[-1.1610477   0.70346215  1.01847981 -0.679209   -1.36375059]\n",
      " [-0.76735817 -0.4455238  -0.92108377 -1.18635647  1.33934115]\n",
      " [-0.65905722 -0.94352215 -0.08403039 -0.28637402  1.53755347]\n",
      " [-0.44675752  0.88204715  1.51933697  1.27814766 -0.17292724]\n",
      " [ 0.04630833  1.91086532 -1.25983921 -0.63065696  0.77195221]]\n"
     ]
    }
   ],
   "source": [
    "import numpy as np\n",
    "#accessing functions from the numpy library and calling it as np\n",
    "\n",
    "X = np.random.random((5,5))\n",
    "#creating a 5x5 array with random values using the random function \n",
    "z = np.mean(X)\n",
    "#calculating the average of all the values using np.mean()\n",
    "v = np.std(X)\n",
    "#calculating the standard deviation using np.std()\n",
    "\n",
    "normalized = (X-z)/v\n",
    "#calculating the normalized data by deducting the mean from the X array and dividing by the standard deviation\n",
    "\n",
    "np.save('X_normalized', normalized)\n",
    "#saving the normalized array into an .npy file called 'X_normalized'\n",
    "\n",
    "Normalized_Data = np.load('X_normalized.npy')\n",
    "#reads the data in 'X.normalized.npy', loads and saves it to 'Normalized_Data'\n",
    "\n",
    "print(Normalized_Data)\n",
    "#printing the result saved on 'Normalized_Data'"
   ]
  },
  {
   "cell_type": "code",
   "execution_count": 44,
   "id": "b9320c3b-76b5-4a8f-ac3c-ac6acd1833a6",
   "metadata": {},
   "outputs": [
    {
     "name": "stdout",
     "output_type": "stream",
     "text": [
      "[[-1.1610477   0.70346215  1.01847981 -0.679209   -1.36375059]\n",
      " [-0.76735817 -0.4455238  -0.92108377 -1.18635647  1.33934115]\n",
      " [-0.65905722 -0.94352215 -0.08403039 -0.28637402  1.53755347]\n",
      " [-0.44675752  0.88204715  1.51933697  1.27814766 -0.17292724]\n",
      " [ 0.04630833  1.91086532 -1.25983921 -0.63065696  0.77195221]]\n"
     ]
    }
   ],
   "source": [
    "Normalized_Data = np.load('X_normalized.npy')\n",
    "print(Normalized_Data)"
   ]
  },
  {
   "cell_type": "markdown",
   "id": "60a2b9ac-0781-4a63-ba38-b9b4420ab57d",
   "metadata": {},
   "source": [
    "##### Normalized data was saved in X_normalized.npy and was printed"
   ]
  },
  {
   "cell_type": "markdown",
   "id": "c5ab8703-db45-458c-8ae3-56f7b0cbfaf9",
   "metadata": {},
   "source": [
    "# DIVISIBLE BY 3 PROBLEM"
   ]
  },
  {
   "cell_type": "code",
   "execution_count": 47,
   "id": "85e39437-04be-4730-99a7-eafafcb8e35f",
   "metadata": {},
   "outputs": [
    {
     "name": "stdout",
     "output_type": "stream",
     "text": [
      "[[    1     4     9    16    25    36    49    64    81   100]\n",
      " [  121   144   169   196   225   256   289   324   361   400]\n",
      " [  441   484   529   576   625   676   729   784   841   900]\n",
      " [  961  1024  1089  1156  1225  1296  1369  1444  1521  1600]\n",
      " [ 1681  1764  1849  1936  2025  2116  2209  2304  2401  2500]\n",
      " [ 2601  2704  2809  2916  3025  3136  3249  3364  3481  3600]\n",
      " [ 3721  3844  3969  4096  4225  4356  4489  4624  4761  4900]\n",
      " [ 5041  5184  5329  5476  5625  5776  5929  6084  6241  6400]\n",
      " [ 6561  6724  6889  7056  7225  7396  7569  7744  7921  8100]\n",
      " [ 8281  8464  8649  8836  9025  9216  9409  9604  9801 10000]]\n",
      "\n",
      "The numbers divisible by 3 are:\n",
      "[   9   36   81  144  225  324  441  576  729  900 1089 1296 1521 1764\n",
      " 2025 2304 2601 2916 3249 3600 3969 4356 4761 5184 5625 6084 6561 7056\n",
      " 7569 8100 8649 9216 9801]\n"
     ]
    }
   ],
   "source": [
    "import numpy as nd\n",
    "#accessing the numpy library and calling it as nd\n",
    "\n",
    "w = nd.arange(1,101,1)\n",
    "#creating a 1d array containing the numbers 1-100 by starting the array by 1, \n",
    "#incrementing by 1 up to 100 excluding the terminal value 101\n",
    "#data is stored in w\n",
    "y = nd.arange(1,101,1)\n",
    "#creating another 1d array with the same elements as array w\n",
    "n = w * y\n",
    "#element-wise multiplication of the array w and array y to get their squares\n",
    "#storing the data in n\n",
    "j = n.reshape(10,10)\n",
    "#reshaping the data in n into a 10x10 array and storing it in j\n",
    "print(j)\n",
    "#printing the reshaped array j\n",
    "\n",
    "\n",
    "print(\"\\nThe numbers divisible by 3 are:\")\n",
    "#label for the list of the numbers divisible by 3)\n",
    "divisible = [] \n",
    "#making a list named 'divisible' to store the numbers divisible by 3\n",
    "for k in n:\n",
    "#a for loop to check for divisibility for each element in n\n",
    "    if k % 3 == 0:\n",
    "    #determining if the value of k is divisible by 3 through modulo\n",
    "        divisible.append(k)\n",
    "        #adding the last element divisible by 3 to the list\n",
    "        \n",
    "nd.save('div_by_3', divisible)\n",
    "#saving the values within the list divisible as a .npy file named 'div_by_3'\n",
    "b = nd.load('div_by_3.npy')\n",
    "#reading the .npy file, loading it and storing it into b\n",
    "print(b)\n",
    "#print the values in b"
   ]
  },
  {
   "cell_type": "code",
   "execution_count": 45,
   "id": "6c6ed675-c3f1-4151-87e0-2d15a02e3467",
   "metadata": {},
   "outputs": [
    {
     "name": "stdout",
     "output_type": "stream",
     "text": [
      "[   9   36   81  144  225  324  441  576  729  900 1089 1296 1521 1764\n",
      " 2025 2304 2601 2916 3249 3600 3969 4356 4761 5184 5625 6084 6561 7056\n",
      " 7569 8100 8649 9216 9801]\n"
     ]
    }
   ],
   "source": [
    "b = nd.load('div_by_3.npy')\n",
    "print(b)"
   ]
  },
  {
   "cell_type": "markdown",
   "id": "4cf1aca6-c6ed-40bd-8621-5a2154998bda",
   "metadata": {},
   "source": [
    "##### All the elements divisible by 3 was saved in div_by_3 and was printed"
   ]
  }
 ],
 "metadata": {
  "kernelspec": {
   "display_name": "Python [conda env:base] *",
   "language": "python",
   "name": "conda-base-py"
  },
  "language_info": {
   "codemirror_mode": {
    "name": "ipython",
    "version": 3
   },
   "file_extension": ".py",
   "mimetype": "text/x-python",
   "name": "python",
   "nbconvert_exporter": "python",
   "pygments_lexer": "ipython3",
   "version": "3.13.5"
  }
 },
 "nbformat": 4,
 "nbformat_minor": 5
}
